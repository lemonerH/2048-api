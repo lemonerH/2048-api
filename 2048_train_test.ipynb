{
  "nbformat": 4,
  "nbformat_minor": 0,
  "metadata": {
    "colab": {
      "name": "2048_train_test.ipynb",
      "provenance": []
    },
    "kernelspec": {
      "name": "python3",
      "display_name": "Python 3"
    },
    "accelerator": "TPU"
  },
  "cells": [
    {
      "cell_type": "code",
      "metadata": {
        "id": "3YK_YsZUNw5l",
        "colab_type": "code",
        "colab": {}
      },
      "source": [
        "!ls"
      ],
      "execution_count": null,
      "outputs": []
    },
    {
      "cell_type": "code",
      "metadata": {
        "id": "0C4rz3_OQrDC",
        "colab_type": "code",
        "colab": {
          "base_uri": "https://localhost:8080/",
          "height": 35
        },
        "outputId": "30d2faa0-0566-45a2-f847-809d5e97c304"
      },
      "source": [
        "%cd drive/My\\ Drive/2048-api-master"
      ],
      "execution_count": null,
      "outputs": [
        {
          "output_type": "stream",
          "text": [
            "/content/drive/My Drive/2048-api-master\n"
          ],
          "name": "stdout"
        }
      ]
    },
    {
      "cell_type": "markdown",
      "metadata": {
        "id": "tLiGIOWH9jiE",
        "colab_type": "text"
      },
      "source": [
        "提取训练数据，DATA.csv"
      ]
    },
    {
      "cell_type": "code",
      "metadata": {
        "id": "HqKd5tdiQrG2",
        "colab_type": "code",
        "colab": {
          "base_uri": "https://localhost:8080/",
          "height": 71
        },
        "outputId": "730f1411-0e2c-4bc9-d924-bdfae92af001"
      },
      "source": [
        "import csv\n",
        "import numpy as np\n",
        "import time\n",
        "\n",
        "datas = []\n",
        "labels = []\n",
        "\n",
        "def step2array(step):\n",
        "    vec = np.zeros(4, dtype = bool)\n",
        "    vec[step] = 1\n",
        "    return vec\n",
        "\n",
        "start = time.time()\n",
        "with open(\"DATA.csv\", \"r\") as f:\n",
        "    csv_read = csv.reader(f)\n",
        "    for line in csv_read:\n",
        "        board = np.zeros((4, 4))\n",
        "        for i in range(16):\n",
        "            board[i // 4][i % 4] = int(line[i]) / 11.0\n",
        "        boardT = board.T\n",
        "        step = int(line[16])\n",
        "        datas.append(np.hstack((board, boardT)))\n",
        "        labels.append(step2array(step))\n",
        "print(\"time: \", time.time() - start)\n",
        "\n",
        "datas = np.array(datas)\n",
        "labels = np.array(labels)\n",
        "\n",
        "print(datas.shape)\n",
        "print(labels.shape)"
      ],
      "execution_count": null,
      "outputs": [
        {
          "output_type": "stream",
          "text": [
            "time:  165.07440567016602\n",
            "(8178972, 4, 8)\n",
            "(8178972, 4)\n"
          ],
          "name": "stdout"
        }
      ]
    },
    {
      "cell_type": "markdown",
      "metadata": {
        "id": "rknZ6-WZ90Za",
        "colab_type": "text"
      },
      "source": [
        "定义模型RCNN"
      ]
    },
    {
      "cell_type": "code",
      "metadata": {
        "id": "pq9Rz79CQrKg",
        "colab_type": "code",
        "colab": {}
      },
      "source": [
        "import tensorflow as tf\n",
        "from tensorflow.keras import Input\n",
        "from tensorflow.keras.models import Sequential, Model\n",
        "from tensorflow.keras.layers import LSTM, Dense, Reshape\n",
        "from tensorflow.keras.layers import Flatten, Dropout, Conv2D, TimeDistributed\n",
        "from tensorflow.keras.layers import BatchNormalization, Activation, concatenate\n",
        "\n",
        "\n",
        "def RCNN_model():\n",
        "    inputs = Input((4, 8))\n",
        "\n",
        "    lstm1 = LSTM(256, return_sequences = True, activation = 'relu')(inputs)\n",
        "    lstm2 = LSTM(256, return_sequences = True, activation = 'relu')(lstm1)\n",
        "    lstm3 = LSTM(256, return_sequences = True, activation = 'relu')(lstm2)\n",
        "    lstm4 = LSTM(256, return_sequences = False, activation = 'relu')(lstm3)\n",
        "\n",
        "    flatten1 = Flatten()(lstm4)\n",
        "    de1 = Dense(256, activation = 'relu')(flatten1)\n",
        "\n",
        "    reshape1 = Reshape((4, 8, 1))(inputs)\n",
        "    conv1 = Conv2D(filters = 1, kernel_size = 2, strides = 2)(reshape1)\n",
        "    \n",
        "    flatten2 = Flatten()(conv1)\n",
        "    de2 = Dense(256, activation = 'relu')(flatten2)\n",
        "    # reshape2 = Reshape((8, 256))(de2)\n",
        "\n",
        "    hidden = concatenate([de1, de2])\n",
        "    flatten3 = Flatten()(hidden)\n",
        "\n",
        "    outputs = Dense(4, activation = 'softmax')(flatten3)\n",
        "    model = Model(inputs, outputs)\n",
        "    return model"
      ],
      "execution_count": null,
      "outputs": []
    },
    {
      "cell_type": "markdown",
      "metadata": {
        "id": "Gg24wM_O94DZ",
        "colab_type": "text"
      },
      "source": [
        "训练模型"
      ]
    },
    {
      "cell_type": "code",
      "metadata": {
        "id": "vrY3jNXCQrNO",
        "colab_type": "code",
        "colab": {}
      },
      "source": [
        "from tensorflow.keras.callbacks import ModelCheckpoint\n",
        "import os\n",
        "\n",
        "model = RCNN_model()\n",
        "filepath = \"checkpoints/checkpoint.hdf5\"\n",
        "\n",
        "model.summary()\n",
        "\n",
        "model.compile(\n",
        "    optimizer = 'adam',\n",
        "    loss = 'categorical_crossentropy',\n",
        "    metrics=['accuracy'])\n",
        "\n",
        "checkpoint = ModelCheckpoint(filepath, monitor=\"val_acc\", save_best_only = False, verbose=1, mode=\"auto\")\n",
        "\n",
        "if os.path.exists(filepath):\n",
        "    model.load_weights(filepath)\n",
        "    print(\"checkpoint_loaded\")\n",
        "\n",
        "model.fit(datas, labels, batch_size = 1000, epochs = 10, callbacks = [checkpoint])"
      ],
      "execution_count": null,
      "outputs": []
    },
    {
      "cell_type": "markdown",
      "metadata": {
        "id": "1bBIfjRz-NAa",
        "colab_type": "text"
      },
      "source": [
        "测试模型"
      ]
    },
    {
      "cell_type": "code",
      "metadata": {
        "id": "m3NNkk0d-K1D",
        "colab_type": "code",
        "colab": {}
      },
      "source": [
        "from game2048.game import Game\n",
        "from game2048.displays import Display, IPythonDisplay\n",
        "from game2048.agents import Agent, RandomAgent, ExpectiMaxAgent\n",
        "import numpy as np\n",
        "from models.refer_model import refer_model\n",
        "\n",
        "model = RCNN_model()\n",
        "model.load_weights(\"checkpoints/checkpoint.hdf5\")\n",
        "\n",
        "def reshape_board(board):\n",
        "    res = np.zeros((4, 4), dtype = float)\n",
        "    for i in range(4):\n",
        "        for j in range(4):\n",
        "            k = int(board[i, j])\n",
        "            if k != 0:\n",
        "                res[i, j] = np.log2(k) / 11\n",
        "\n",
        "    res1 = res.T\n",
        "    return np.hstack((res, res1))\n",
        "\n",
        "game3 = Game(score_to_win = 2048, random = False)\n",
        "display3 = Display()\n",
        "\n",
        "while game3.end == 0:\n",
        "    display3.display(game3)\n",
        "    # agent1 = ExpectiMaxAgent(game3)\n",
        "    board = np.array([reshape_board(game3.board)])\n",
        "    prediction = model.predict(board)\n",
        "    step = np.argmax(prediction, axis = 1)\n",
        "    # step = agent1.step()\n",
        "\n",
        "    game3.move(step)"
      ],
      "execution_count": null,
      "outputs": []
    },
    {
      "cell_type": "markdown",
      "metadata": {
        "id": "Y3EkuYfz-sUS",
        "colab_type": "text"
      },
      "source": [
        "生成评价log"
      ]
    },
    {
      "cell_type": "code",
      "metadata": {
        "id": "z8bDrlvmQrP4",
        "colab_type": "code",
        "colab": {
          "base_uri": "https://localhost:8080/",
          "height": 211
        },
        "outputId": "66117f97-276b-439d-fb38-844c7cb27a93"
      },
      "source": [
        "!python evaluate.py >> EE369_evaluation.log"
      ],
      "execution_count": null,
      "outputs": [
        {
          "output_type": "stream",
          "text": [
            "2020-06-17 11:11:01.668430: I tensorflow/stream_executor/platform/default/dso_loader.cc:44] Successfully opened dynamic library libcudart.so.10.1\n",
            "2020-06-17 11:11:03.548965: I tensorflow/stream_executor/platform/default/dso_loader.cc:44] Successfully opened dynamic library libcuda.so.1\n",
            "2020-06-17 11:11:03.553071: E tensorflow/stream_executor/cuda/cuda_driver.cc:313] failed call to cuInit: CUDA_ERROR_NO_DEVICE: no CUDA-capable device is detected\n",
            "2020-06-17 11:11:03.553126: I tensorflow/stream_executor/cuda/cuda_diagnostics.cc:156] kernel driver does not appear to be running on this host (792d4b7f141f): /proc/driver/nvidia/version does not exist\n",
            "2020-06-17 11:11:03.553539: I tensorflow/core/platform/cpu_feature_guard.cc:143] Your CPU supports instructions that this TensorFlow binary was not compiled to use: AVX512F\n",
            "2020-06-17 11:11:03.561663: I tensorflow/core/platform/profile_utils/cpu_utils.cc:102] CPU Frequency: 2000175000 Hz\n",
            "2020-06-17 11:11:03.562020: I tensorflow/compiler/xla/service/service.cc:168] XLA service 0x12f4bc0 initialized for platform Host (this does not guarantee that XLA will be used). Devices:\n",
            "2020-06-17 11:11:03.562059: I tensorflow/compiler/xla/service/service.cc:176]   StreamExecutor device (0): Host, Default Version\n"
          ],
          "name": "stdout"
        }
      ]
    },
    {
      "cell_type": "markdown",
      "metadata": {
        "id": "J_k0F2ro-zoD",
        "colab_type": "text"
      },
      "source": [
        "生成agent指纹"
      ]
    },
    {
      "cell_type": "code",
      "metadata": {
        "id": "rozUfR0L-TTT",
        "colab_type": "code",
        "colab": {}
      },
      "source": [
        "!python generate_fingerprint.py"
      ],
      "execution_count": null,
      "outputs": []
    }
  ]
}